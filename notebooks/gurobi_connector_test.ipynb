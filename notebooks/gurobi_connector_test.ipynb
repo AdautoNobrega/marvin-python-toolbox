{
 "cells": [
  {
   "cell_type": "code",
   "execution_count": 11,
   "metadata": {},
   "outputs": [],
   "source": [
    "from marvin_python_toolbox.common.connector import get_gurobi_model"
   ]
  },
  {
   "cell_type": "code",
   "execution_count": 12,
   "metadata": {},
   "outputs": [],
   "source": [
    "m = get_gurobi_model(host=\"10.13.9.26\")"
   ]
  },
  {
   "cell_type": "code",
   "execution_count": 10,
   "metadata": {},
   "outputs": [],
   "source": [
    "from gurobipy import *\n",
    "\n",
    "m.setParam('OutputFlag', True)\n",
    "\n",
    "x = m.addVar(name='x')\n",
    "y = m.addVar(name='y')\n",
    "\n",
    "m.setObjective(3 * x - y, GRB.MAXIMIZE)\n",
    "\n",
    "m.addConstr(x + y <= 1, \"c1\")\n",
    "\n",
    "m.update()\n",
    "m.optimize()\n",
    "\n",
    "m."
   ]
  },
  {
   "cell_type": "code",
   "execution_count": 13,
   "metadata": {},
   "outputs": [],
   "source": [
    "get_gurobi_model??"
   ]
  },
  {
   "cell_type": "code",
   "execution_count": null,
   "metadata": {},
   "outputs": [],
   "source": []
  }
 ],
 "metadata": {
  "kernelspec": {
   "display_name": "Python 2",
   "language": "python",
   "name": "python2"
  },
  "language_info": {
   "codemirror_mode": {
    "name": "ipython",
    "version": 2
   },
   "file_extension": ".py",
   "mimetype": "text/x-python",
   "name": "python",
   "nbconvert_exporter": "python",
   "pygments_lexer": "ipython2",
   "version": "2.7.12"
  }
 },
 "nbformat": 4,
 "nbformat_minor": 2
}
